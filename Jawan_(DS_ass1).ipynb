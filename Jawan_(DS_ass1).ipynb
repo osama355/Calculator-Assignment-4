{
  "nbformat": 4,
  "nbformat_minor": 0,
  "metadata": {
    "colab": {
      "name": "Jawan (DS ass1)",
      "provenance": [],
      "authorship_tag": "ABX9TyOzSPtb02rxH+mFpTGJJ2z5",
      "include_colab_link": true
    },
    "kernelspec": {
      "name": "python3",
      "display_name": "Python 3"
    },
    "language_info": {
      "name": "python"
    }
  },
  "cells": [
    {
      "cell_type": "markdown",
      "metadata": {
        "id": "view-in-github",
        "colab_type": "text"
      },
      "source": [
        "<a href=\"https://colab.research.google.com/github/osama355/Calculator-Assignment-4/blob/master/Jawan_(DS_ass1).ipynb\" target=\"_parent\"><img src=\"https://colab.research.google.com/assets/colab-badge.svg\" alt=\"Open In Colab\"/></a>"
      ]
    },
    {
      "cell_type": "code",
      "execution_count": 1,
      "metadata": {
        "colab": {
          "base_uri": "https://localhost:8080/"
        },
        "id": "k98gkclVxHwR",
        "outputId": "27f0eb0d-5cea-44ee-cc2d-c0e3db2fe3e0"
      },
      "outputs": [
        {
          "output_type": "stream",
          "name": "stdout",
          "text": [
            "Q:01 Write a python program to print the given string in specific format?\n",
            "Answer :\n",
            "Twinkle, twinkle, little star,\n",
            "         How i Wonder what you are\n",
            "                 Up above the world so high,\n",
            "                 Like a diamond in the sky.\n",
            "Twinkle, twinkle, little star,\n",
            "         How i Wonder what you are\n"
          ]
        }
      ],
      "source": [
        "print(\"Q:01 Write a python program to print the given string in specific format?\")\n",
        "print(\"Answer :\")\n",
        "print('Twinkle, twinkle, little star,')\n",
        "print('         How i Wonder what you are')\n",
        "print('                 Up above the world so high,')\n",
        "print('                 Like a diamond in the sky.')\n",
        "print('Twinkle, twinkle, little star,')\n",
        "print('         How i Wonder what you are')"
      ]
    },
    {
      "cell_type": "code",
      "source": [
        "import sys\n",
        "print(\"Q:02 Write a python program to get the python version you are using?\")\n",
        "print(\"Answer :\")\n",
        "print(sys.version)"
      ],
      "metadata": {
        "colab": {
          "base_uri": "https://localhost:8080/"
        },
        "id": "VaatFCNZxcJC",
        "outputId": "eebb46c8-a576-437f-d8ca-d082577ce263"
      },
      "execution_count": 2,
      "outputs": [
        {
          "output_type": "stream",
          "name": "stdout",
          "text": [
            "Q:02 Write a python program to get the python version you are using?\n",
            "Answer :\n",
            "3.7.12 (default, Sep 10 2021, 00:21:48) \n",
            "[GCC 7.5.0]\n"
          ]
        }
      ]
    },
    {
      "cell_type": "code",
      "source": [
        "from datetime import datetime\n",
        "currentDateTime=datetime.now()\n",
        "print(currentDateTime)"
      ],
      "metadata": {
        "colab": {
          "base_uri": "https://localhost:8080/"
        },
        "id": "UNpVHcfrxunx",
        "outputId": "cf07661f-3639-46df-ec07-5e15ceed7f3a"
      },
      "execution_count": 4,
      "outputs": [
        {
          "output_type": "stream",
          "name": "stdout",
          "text": [
            "2022-01-02 12:34:10.351777\n"
          ]
        }
      ]
    },
    {
      "cell_type": "code",
      "source": [
        "import math\n",
        "print(\"Q:04 Write a python program which accept the radius of a circle from the user and compute the area?\")\n",
        "print(\"Answer :\")\n",
        "r = float(input('radius of a circle:'))\n",
        "frml = math.pi* r **2   #pi=22/7\n",
        "print('area of a circle:' , frml)"
      ],
      "metadata": {
        "colab": {
          "base_uri": "https://localhost:8080/"
        },
        "id": "6iOkWPq6yC38",
        "outputId": "0006e762-1909-4fac-db45-32f3baa68662"
      },
      "execution_count": 5,
      "outputs": [
        {
          "output_type": "stream",
          "name": "stdout",
          "text": [
            "Q:04 Write a python program which accept the radius of a circle from the user and compute the area?\n",
            "Answer :\n",
            "radius of a circle:24\n",
            "area of a circle: 1809.5573684677208\n"
          ]
        }
      ]
    },
    {
      "cell_type": "code",
      "source": [
        "print(\"Q:5 Write a python program which accepts the user's first and last name and print them in revers order with space between them?\")\n",
        "print(\"Answer :\")\n",
        "name_1 = input('first name: ') \n",
        "name_2 = input('last name: ')\n",
        "revFir = name_1[::-1]\n",
        "revLast= name_2 [::-1]\n",
        "print(revFir)\n",
        "print(revLast)\n"
      ],
      "metadata": {
        "colab": {
          "base_uri": "https://localhost:8080/"
        },
        "id": "UnKuis0HyX6x",
        "outputId": "b7f4c696-4619-4853-af05-0e21db05a411"
      },
      "execution_count": 10,
      "outputs": [
        {
          "output_type": "stream",
          "name": "stdout",
          "text": [
            "Q:5 Write a python program which accepts the user's first and last name and print them in revers order with space between them?\n",
            "Answer :\n",
            "first name: osama\n",
            "last name: nadeem\n",
            "amaso\n",
            "meedan\n"
          ]
        }
      ]
    },
    {
      "cell_type": "code",
      "source": [
        "print(\"Q:6 Write a python program which takes two input from user and print them addition?\")\n",
        "print(\"Answer :\")\n",
        "num1= int (input(\"Enter first number : \"))\n",
        "num2=int(input(\"Enter second number : \"))\n",
        "sum=num1+num2\n",
        "print(\"Total Addition : \",sum)"
      ],
      "metadata": {
        "colab": {
          "base_uri": "https://localhost:8080/"
        },
        "id": "GmEQ66byyeDV",
        "outputId": "8e190a7e-2076-491c-eb45-6c24c8caa90b"
      },
      "execution_count": 11,
      "outputs": [
        {
          "output_type": "stream",
          "name": "stdout",
          "text": [
            "Q:6 Write a python program which takes two input from user and print them addition?\n",
            "Answer :\n",
            "Enter first number : 2\n",
            "Enter second number : 5\n",
            "Total Addition :  7\n"
          ]
        }
      ]
    },
    {
      "cell_type": "code",
      "source": [
        ""
      ],
      "metadata": {
        "id": "qsVNyrXZztfr"
      },
      "execution_count": null,
      "outputs": []
    }
  ]
}